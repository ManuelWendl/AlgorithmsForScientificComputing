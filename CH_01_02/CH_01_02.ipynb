{
 "cells": [
  {
   "attachments": {},
   "cell_type": "markdown",
   "metadata": {},
   "source": [
    "# Fast Fourier Transform (FFT)\n",
    "## Recursive Implementation\n",
    "\n",
    "The recursive implementation of the FFT consist of the following steps: \n",
    "\n",
    "1. Generate vectors $Y$ and $Z$: \n",
    "\\begin{gather}\n",
    "Y_n = X_{2n}, \\quad Z_n = X_{2n+1}, \\quad n = 0, \\dotsb \\frac{N}{2}-1\n",
    "\\end{gather}\n",
    "\n",
    "2. Compute the 2 FFTs for the half size. (Recursive call)\n",
    "\n",
    "3. Combine both $Y_n$ and $Z_n$ with the butterfly scheme:\n",
    "\\begin{gather}\n",
    "x_k = y_k + \\omega_N^k z_k\\\\\n",
    "x_{k+\\frac{N}{2}} = y_k - \\omega^k_N z_k\n",
    "\\end{gather}\n"
   ]
  },
  {
   "cell_type": "code",
   "execution_count": 55,
   "metadata": {},
   "outputs": [
    {
     "name": "stdout",
     "output_type": "stream",
     "text": [
      "System computete FFT: \n",
      " [36.+0.j         -4.+9.65685425j -4.+4.j         -4.+1.65685425j\n",
      " -4.+0.j         -4.-1.65685425j -4.-4.j         -4.-9.65685425j]\n",
      "Self implemented FFT:\n",
      " [36.+0.j         -4.+9.65685425j -4.+4.j         -4.+1.65685425j\n",
      " -4.+0.j         -4.-1.65685425j -4.-4.j         -4.-9.65685425j] \n",
      "\n",
      "System computed iFFT:\n",
      " [ 4.5+0.j         -0.5-1.20710678j -0.5-0.5j        -0.5-0.20710678j\n",
      " -0.5+0.j         -0.5+0.20710678j -0.5+0.5j        -0.5+1.20710678j]\n",
      "Self implemented iFFT:\n",
      " [ 4.5+0.j         -0.5-1.20710678j -0.5-0.5j        -0.5-0.20710678j\n",
      " -0.5+0.j         -0.5+0.20710678j -0.5+0.5j        -0.5+1.20710678j]\n"
     ]
    }
   ],
   "source": [
    "import numpy as np\n",
    "import cmath\n",
    "\n",
    "def rekursion(X,inverse):\n",
    "    # X requires to be a power of 2\n",
    "    N = np.size(X)\n",
    "\n",
    "    # decide if inverse or not\n",
    "    b = 1 if inverse == 1 else -1\n",
    "\n",
    "    if (N>1):\n",
    "        # Initialise variables\n",
    "        Y = np.empty((np.int16(N/2),),np.complex_)\n",
    "        Z = np.empty((np.int16(N/2),),np.complex_)\n",
    "\n",
    "        # Generate Vectors Y and Z\n",
    "        for i in range(0,np.int16(N/2)):\n",
    "            Y[i] = X[2*i]\n",
    "            Z[i] = X[2*i+1]\n",
    "\n",
    "        # recursive call\n",
    "        y = rekursion(Y,inverse)\n",
    "        z = rekursion(Z,inverse)\n",
    "\n",
    "        # compute butterfly\n",
    "        x = np.empty((N,),np.complex_)\n",
    "        for k in range(0,np.int16(N/2)):\n",
    "            wz = cmath.exp(b*1J*2*cmath.pi*k/N)*z[k]\n",
    "            x[k] = y[k]+wz\n",
    "            x[k+np.int16(N/2)] = y[k]-wz\n",
    "\n",
    "    else:\n",
    "        # termination case N == 1\n",
    "        x=X\n",
    "\n",
    "    return x\n",
    "\n",
    "def rekfft(X):\n",
    "    return rekursion(X,0)\n",
    "\n",
    "def rekifft(X):\n",
    "    N = np.size(X)\n",
    "    return 1/N*rekursion(X,1)\n",
    "\n",
    "print('System computete FFT: \\n',np.fft.fft([1,2,3,4,5,6,7,8]))\n",
    "print('Self implemented FFT:\\n',rekfft([1,2,3,4,5,6,7,8]),'\\n')\n",
    "\n",
    "print('System computed iFFT:\\n',np.fft.ifft([1,2,3,4,5,6,7,8]))\n",
    "print('Self implemented iFFT:\\n',rekifft([1,2,3,4,5,6,7,8]))\n"
   ]
  },
  {
   "attachments": {},
   "cell_type": "markdown",
   "metadata": {},
   "source": [
    "## Iterative Implementation\n",
    "In the iterative implementation the FFT is devided into a sorting phase and a computational phase. \n",
    "\n",
    "### Sorting algorithm:\n",
    "The sorting algorithm can be implemented by bit reversal. For a vector of length $N=2^p$ we obtain a runtime: \n",
    "\n",
    "1. Each bit reversal has runtime $\\mathcal{O}(p)$\n",
    "\n",
    "2. Bit reversal is run for $N$\n",
    "\n",
    "Given a complete runtime of $\\mathcal{O}(N \\log N)$"
   ]
  },
  {
   "cell_type": "code",
   "execution_count": 56,
   "metadata": {},
   "outputs": [
    {
     "name": "stdout",
     "output_type": "stream",
     "text": [
      "Indices:  [0, 1, 2, 3, 4, 5, 6, 7]\n",
      "Shifted Indices:  [0, 4, 2, 6, 1, 5, 3, 7]\n"
     ]
    }
   ],
   "source": [
    "def fftshift(X):\n",
    "    # X requires to be a power of 2\n",
    "    N =  np.size(X)\n",
    "    p = np.int16(np.log2(N)) # size(N) = 2^p\n",
    "\n",
    "    for n in range(0,N):\n",
    "        j = 0; m = n\n",
    "        for i in range(0,p):\n",
    "            j = np.int16(2*j + m%2); m = np.int16(m/2)\n",
    "        if (j>n):\n",
    "            h = X[j]; X[j] = X[n]; X[n] = h\n",
    "    \n",
    "    return X\n",
    "\n",
    "print('Indices: ',[0,1,2,3,4,5,6,7])\n",
    "print('Shifted Indices: ',fftshift([0,1,2,3,4,5,6,7]))"
   ]
  },
  {
   "attachments": {},
   "cell_type": "markdown",
   "metadata": {},
   "source": [
    "### Iterative Butterfly implemetation\n",
    "There exist different variants, which will be implemented seperately below: \n",
    "\n",
    "#### 1. Variant:"
   ]
  },
  {
   "cell_type": "code",
   "execution_count": 57,
   "metadata": {},
   "outputs": [
    {
     "name": "stdout",
     "output_type": "stream",
     "text": [
      "System computete FFT: \n",
      " [36.+0.j         -4.+9.65685425j -4.+4.j         -4.+1.65685425j\n",
      " -4.+0.j         -4.-1.65685425j -4.-4.j         -4.-9.65685425j]\n",
      "Self implemented FFT:\n",
      " [36.+0.j         -4.+9.65685425j -4.+4.j         -4.+1.65685425j\n",
      " -4.+0.j         -4.-1.65685425j -4.-4.j         -4.-9.65685425j] \n",
      "\n",
      "System computed iFFT:\n",
      " [ 4.5+0.j         -0.5-1.20710678j -0.5-0.5j        -0.5-0.20710678j\n",
      " -0.5+0.j         -0.5+0.20710678j -0.5+0.5j        -0.5+1.20710678j]\n",
      "Self implemented iFFT:\n",
      " [ 4.5+0.j         -0.5-1.20710678j -0.5-0.5j        -0.5-0.20710678j\n",
      " -0.5+0.j         -0.5+0.20710678j -0.5+0.5j        -0.5+1.20710678j]\n"
     ]
    }
   ],
   "source": [
    "def butterfly_v1(X,inverse):\n",
    "    # X requires to be a power of 2 and sorted by fftshift\n",
    "    X = np.array(X,np.complex_)\n",
    "    N =  np.size(X)\n",
    "    p = np.int16(np.log2(N)) # size(N) = 2^p\n",
    "\n",
    "    # decide if inverse or not\n",
    "    b = 1 if inverse == 1 else -1\n",
    "\n",
    "    for  L in 2**np.array(range(1,p+1)):\n",
    "        for k in np.arange(0,N,L):\n",
    "            for j in range(0,np.int_(L/2)):\n",
    "                wz = cmath.exp(b*1J*2*cmath.pi*j/L)*X[k+j+np.int_(L/2)]\n",
    "                X[k+j+np.int_(L/2)] = X[k+j] - wz\n",
    "                X[k+j] = X[k+j] + wz\n",
    "    return X\n",
    "\n",
    "def itfft_v1(X):\n",
    "    return butterfly_v1(fftshift(X),0)\n",
    "\n",
    "def itifft_v1(X):\n",
    "    return 1/np.size(X)*butterfly_v1(fftshift(X),1)\n",
    "\n",
    "print('System computete FFT: \\n',np.fft.fft([1,2,3,4,5,6,7,8]))\n",
    "print('Self implemented FFT:\\n',itfft_v1([1,2,3,4,5,6,7,8]),'\\n')\n",
    "\n",
    "print('System computed iFFT:\\n',np.fft.ifft([1,2,3,4,5,6,7,8]))\n",
    "print('Self implemented iFFT:\\n',itifft_v1([1,2,3,4,5,6,7,8]))\n",
    "    "
   ]
  },
  {
   "attachments": {},
   "cell_type": "markdown",
   "metadata": {},
   "source": [
    "Variant 1 can also be implemented vectorised with the help of SIMD. Therefore it is possible to speed up computation time "
   ]
  },
  {
   "cell_type": "code",
   "execution_count": 58,
   "metadata": {},
   "outputs": [
    {
     "name": "stdout",
     "output_type": "stream",
     "text": [
      "Itterative FFT:\n",
      "Elapsed time = 0.3464686870574951\n",
      "Vectorised FFT:\n",
      "Elapsed time = 0.26685214042663574\n"
     ]
    },
    {
     "data": {
      "image/png": "[encoded data removed]",
      "text/plain": [
       "<Figure size 700x700 with 2 Axes>"
      ]
     },
     "metadata": {},
     "output_type": "display_data"
    }
   ],
   "source": [
    "from matplotlib import pyplot as plt\n",
    "import time\n",
    "\n",
    "def butterfly_v1_vec(X,inverse):\n",
    "    # X requires to be a power of 2 and sorted by fftshift\n",
    "    X = np.array(X,np.complex_)\n",
    "    N =  np.size(X)\n",
    "    p = np.int16(np.log2(N)) # size(N) = 2^p\n",
    "\n",
    "    # decide if inverse or not\n",
    "    b = 1 if inverse == 1 else -1\n",
    "\n",
    "    SIMD_LENGTH = 16\n",
    "\n",
    "    for  L in 2**np.array(range(1,p+1)):\n",
    "        d = np.min([SIMD_LENGTH,np.int_(L/2)])\n",
    "        for k in np.arange(0,N,L):\n",
    "            for j in np.arange(0,np.int_(L/2),SIMD_LENGTH):\n",
    "                kjStart = k+j\n",
    "                kjEnde = k+j+d\n",
    "                wz = np.multiply(np.exp(b*1J*2*np.pi*np.arange(kjStart-k,kjEnde-k)/L),X[kjStart+np.int_(L/2):kjEnde+np.int_(L/2)])\n",
    "                X[kjStart+np.int_(L/2):kjEnde+np.int_(L/2)] = np.subtract(X[kjStart:kjEnde],wz)\n",
    "                X[kjStart:kjEnde] = np.add(X[kjStart:kjEnde],wz)\n",
    "    return X\n",
    "\n",
    "def itfft_v1_vec(X):\n",
    "    return butterfly_v1_vec(fftshift(X),0)\n",
    "\n",
    "def itifft_v1_vec(X):\n",
    "    return 1/np.size(X)*butterfly_v1_vec(fftshift(X),1)\n",
    "\n",
    "plt.figure(figsize=(7,7))\n",
    "size = 2**11\n",
    "Y = np.random.randn(size)+np.random.randn(size)*1J\n",
    "X = Y\n",
    "\n",
    "print('Itterative FFT:')\n",
    "t = time.time()\n",
    "fhat = itfft_v1(X)\n",
    "elapsed = time.time()-t\n",
    "print('Elapsed time =',elapsed)\n",
    "plt.subplot(2,1,1)\n",
    "plt.title('Powerspectrum')\n",
    "plt.ylabel('$|F^2|$')\n",
    "plt.plot(np.abs(fhat**2))\n",
    "\n",
    "X = fftshift(Y) # FFT shift is needed due to modification of X in fftshift\n",
    "\n",
    "print('Vectorised FFT:')\n",
    "t = time.time()\n",
    "fhat = itfft_v1_vec(X)\n",
    "elapsed = time.time()-t\n",
    "print('Elapsed time =',elapsed)\n",
    "plt.plot(np.abs(fhat**2))\n",
    "\n",
    "plt.subplot(2,1,2)\n",
    "plt.plot(np.real(fftshift(X)))\n",
    "plt.xlabel('x')\n",
    "plt.ylabel('y')\n",
    "plt.title('Data')\n",
    "plt.show()\n"
   ]
  },
  {
   "attachments": {},
   "cell_type": "markdown",
   "metadata": {},
   "source": [
    "#### 2. Variant :\n",
    "\n",
    "In the second variant the $k$ an d$j$ loops can be permuted, such that $\\omega_L^j$ is computed in the outer loop and therefore reduces computation complexity. "
   ]
  },
  {
   "cell_type": "code",
   "execution_count": 59,
   "metadata": {},
   "outputs": [
    {
     "name": "stdout",
     "output_type": "stream",
     "text": [
      "System computete FFT: \n",
      " [36.+0.j         -4.+9.65685425j -4.+4.j         -4.+1.65685425j\n",
      " -4.+0.j         -4.-1.65685425j -4.-4.j         -4.-9.65685425j]\n",
      "Self implemented FFT:\n",
      " [36.+0.j         -4.+9.65685425j -4.+4.j         -4.+1.65685425j\n",
      " -4.+0.j         -4.-1.65685425j -4.-4.j         -4.-9.65685425j] \n",
      "\n",
      "System computed iFFT:\n",
      " [ 4.5+0.j         -0.5-1.20710678j -0.5-0.5j        -0.5-0.20710678j\n",
      " -0.5+0.j         -0.5+0.20710678j -0.5+0.5j        -0.5+1.20710678j]\n",
      "Self implemented iFFT:\n",
      " [ 4.5+0.j         -0.5-1.20710678j -0.5-0.5j        -0.5-0.20710678j\n",
      " -0.5+0.j         -0.5+0.20710678j -0.5+0.5j        -0.5+1.20710678j]\n"
     ]
    }
   ],
   "source": [
    "def butterfly_v2(X,inverse):\n",
    "    # X requires to be a power of 2 and sorted by fftshift\n",
    "    X = np.array(X,np.complex_)\n",
    "    N =  np.size(X)\n",
    "    p = np.int16(np.log2(N)) # size(N) = 2^p\n",
    "\n",
    "    # decide if inverse or not\n",
    "    b = 1 if inverse == 1 else -1\n",
    "\n",
    "    for  L in 2**np.array(range(1,p+1)):\n",
    "        wz = cmath.exp(b*1J*2*cmath.pi*j/L)*X[k+j+np.int_(L/2)]\n",
    "        for j in range(0,np.int_(L/2)):\n",
    "            for k in np.arange(0,N,L):\n",
    "                X[k+j+np.int_(L/2)] = X[k+j] - wz\n",
    "                X[k+j] = X[k+j] + wz\n",
    "    return X\n",
    "\n",
    "def itfft_v2(X):\n",
    "    return butterfly_v2(fftshift(X),0)\n",
    "\n",
    "def itifft_v2(X):\n",
    "    return 1/np.size(X)*butterfly_v2(fftshift(X),1)\n",
    "\n",
    "print('System computete FFT: \\n',np.fft.fft([1,2,3,4,5,6,7,8]))\n",
    "print('Self implemented FFT:\\n',itfft_v1([1,2,3,4,5,6,7,8]),'\\n')\n",
    "\n",
    "print('System computed iFFT:\\n',np.fft.ifft([1,2,3,4,5,6,7,8]))\n",
    "print('Self implemented iFFT:\\n',itifft_v1([1,2,3,4,5,6,7,8]))"
   ]
  },
  {
   "attachments": {},
   "cell_type": "markdown",
   "metadata": {},
   "source": [
    "#### Loop Blocking\n",
    "By loop blocking the advantage of recursion, not loading entire $X$ into the cache in each $L$ loop, can be used to ehance performance. "
   ]
  },
  {
   "cell_type": "code",
   "execution_count": 60,
   "metadata": {},
   "outputs": [
    {
     "name": "stdout",
     "output_type": "stream",
     "text": [
      "System computete FFT: \n",
      " [36.+0.j         -4.+9.65685425j -4.+4.j         -4.+1.65685425j\n",
      " -4.+0.j         -4.-1.65685425j -4.-4.j         -4.-9.65685425j]\n",
      "Self implemented FFT:\n",
      " [36.+0.j         -4.+9.65685425j -4.+4.j         -4.+1.65685425j\n",
      " -4.+0.j         -4.-1.65685425j -4.-4.j         -4.-9.65685425j] \n",
      "\n",
      "System computed iFFT:\n",
      " [ 4.5+0.j         -0.5-1.20710678j -0.5-0.5j        -0.5-0.20710678j\n",
      " -0.5+0.j         -0.5+0.20710678j -0.5+0.5j        -0.5+1.20710678j]\n",
      "Self implemented iFFT:\n",
      " [ 4.5+0.j         -0.5-1.20710678j -0.5-0.5j        -0.5-0.20710678j\n",
      " -0.5+0.j         -0.5+0.20710678j -0.5+0.5j        -0.5+1.20710678j]\n"
     ]
    }
   ],
   "source": [
    "def butterfly_v1_loop(X,inverse):\n",
    "    # X requires to be a power of 2 and sorted by fftshift\n",
    "    X = np.array(X,np.complex_)\n",
    "    N =  np.size(X)\n",
    "    p = np.int16(np.log2(N)) # size(N) = 2^p\n",
    "\n",
    "    # decide if inverse or not\n",
    "    b = 1 if inverse == 1 else -1\n",
    "\n",
    "    M = 4\n",
    "\n",
    "    for  L in 2**np.array(range(1,p+1)):\n",
    "        M = np.max([M,L])\n",
    "        for kb in np.arange(0,N,M):\n",
    "            for k in np.arange(kb,kb+M,L):\n",
    "                for j in range(0,np.int_(L/2)):\n",
    "                    wz = cmath.exp(b*1J*2*cmath.pi*j/L)*X[k+j+np.int_(L/2)]\n",
    "                    X[k+j+np.int_(L/2)] = X[k+j] - wz\n",
    "                    X[k+j] = X[k+j] + wz\n",
    "    return X\n",
    "\n",
    "def itfft_v1_loop(X):\n",
    "    return butterfly_v1_loop(fftshift(X),0)\n",
    "\n",
    "def itifft_v1_loop(X):\n",
    "    return 1/np.size(X)*butterfly_v1_loop(fftshift(X),1)\n",
    "\n",
    "print('System computete FFT: \\n',np.fft.fft([1,2,3,4,5,6,7,8]))\n",
    "print('Self implemented FFT:\\n',itfft_v1_loop([1,2,3,4,5,6,7,8]),'\\n')\n",
    "\n",
    "print('System computed iFFT:\\n',np.fft.ifft([1,2,3,4,5,6,7,8]))\n",
    "print('Self implemented iFFT:\\n',itifft_v1_loop([1,2,3,4,5,6,7,8]))"
   ]
  },
  {
   "attachments": {},
   "cell_type": "markdown",
   "metadata": {},
   "source": [
    "In the loop blocking scheme we can exchage the $kb$ and $L$ loop. It is more efficient to perform the loop exchange for $L<=M$ and no loop break in case of $L>M$. "
   ]
  }
 ],
 "metadata": {
  "kernelspec": {
   "display_name": "Python 3",
   "language": "python",
   "name": "python3"
  },
  "language_info": {
   "codemirror_mode": {
    "name": "ipython",
    "version": 3
   },
   "file_extension": ".py",
   "mimetype": "text/x-python",
   "name": "python",
   "nbconvert_exporter": "python",
   "pygments_lexer": "ipython3",
   "version": "3.9.2"
  },
  "orig_nbformat": 4
 },
 "nbformat": 4,
 "nbformat_minor": 2
}
